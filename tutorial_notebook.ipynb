{
 "cells": [
  {
   "cell_type": "markdown",
   "metadata": {},
   "source": [
    "# Carrier Concentration under AM1.5G Solar Spectrum\n",
    "\n",
    "The carrier concentration of a material under the AM1.5G solar spectrum can be\n",
    "calculated from its optical absorption. The overall equation here is:\n",
    "\n",
    "$$\\Delta n = G \\tau$$\n",
    "\n",
    "where $\\Delta n$ is the excess carrier density due to photoexcitation (in carriers/cm$^{-3}$), $G$ is the carrier\n",
    "generation rate (in carriers/cm$^{-3}$s), and $\\tau$ is the excited carrier lifetime (in s).\n",
    "\n",
    "The theory on calculating the generation rate of carriers can be found here: http://www.pveducation.org/pvcdrom/generation-rate\n",
    " and here: http://www.pveducation.org/pvcdrom/collection-probability\n",
    " \n",
    "To summarise, carrier generation can be calculated as:\n",
    "\n",
    "$$ G = \\alpha N_0 e^{-\\alpha x}$$\n",
    "\n",
    "Where $\\alpha$ is the optical absorption coefficient (in cm$^{-1}$), $N_0$ is the photon flux at the surface (in photons/cm$^{-2}$s$^{-1}$nm), and $x$ is the depth into the device where generation is being measured (in cm). Both $\\alpha$ and $N_0$ are dependent on the wavelength of the photons ($\\lambda$), therefore we must integrate the generation rate across all wavelengths of interest:\n",
    "\n",
    "$$\\int \\alpha (\\lambda) N_0 (\\lambda) e^{-\\alpha  (\\lambda) x} d\\lambda$$\n",
    "\n",
    "Lastly, we want to a calculate our carrier concentration for a specific thickness of device $W$ (in cm):\n",
    "\n",
    "$$\\int_0^W \\int \\alpha (\\lambda) N_0 (\\lambda) e^{-\\alpha  (\\lambda) x} d\\lambda dx$$\n",
    "\n",
    "NOTE: We are using a collection probability of 1, meaning that every incident photo is converted directly into a charge carrier. In reality this is a big simplification."
   ]
  },
  {
   "cell_type": "code",
   "execution_count": 1,
   "metadata": {},
   "outputs": [
    {
     "data": {
      "image/png": "[encoded data removed]",
      "text/plain": [
       "<matplotlib.figure.Figure at 0x7fd684d9db00>"
      ]
     },
     "metadata": {},
     "output_type": "display_data"
    }
   ],
   "source": [
    "%matplotlib inline\n",
    "import matplotlib.pyplot as plt\n",
    "\n",
    "from pvpy.PowerSpectrum import PhotonSpectrum\n",
    "\n",
    "ps = PhotonSpectrum()\n",
    "flux_spectrum = ps.get_spectrum()\n",
    "\n",
    "plt.plot(flux_spectrum[0,:], flux_spectrum[1,:])\n",
    "plt.gca().set(xlabel=r'Wavelength cm$^{-1}$', ylabel=r'Photon Flux (m$^{-2}$s$^{-1}$nm)')\n",
    "plt.show()"
   ]
  },
  {
   "cell_type": "code",
   "execution_count": 2,
   "metadata": {},
   "outputs": [],
   "source": [
    "import numpy as np\n",
    "from scipy import interpolate\n",
    "from scipy.constants import physical_constants\n",
    "\n",
    "hv = physical_constants['Planck constant in eV s'][0] * \\\n",
    "     physical_constants['speed of light in vacuum'] [0]\n",
    "\n",
    "def get_conc(energies, absorption, wavelength_limits=(280, 2000), thickness=2e-5, \n",
    "             delta_wavelength=5, delta_thickness=1e-7, carrier_lifetime=1e-5):\n",
    "    \"\"\"Calculate the carrier concentration of a material based on its absorption.\n",
    "    \n",
    "    Args:\n",
    "        energies (np.array): Photon energies in eV\n",
    "        absorption (np.array): Optical absorption in cm^-1\n",
    "        wavelength_limits (tuple): Integration limits for the photon wavelengths\n",
    "            as (min, max), in cm^-1.\n",
    "        thickness (float): Thickness of material in cm\n",
    "        delta_wavelength (float): Wavelength integration step size\n",
    "        delta_thickness (float): Thickness integraton step size\n",
    "        carrier_lifetime (float): Carrier lifetime of excited carriers\n",
    "        \n",
    "    Returns:\n",
    "        Carrier concentration in cm^-3.\n",
    "    \"\"\"\n",
    "    ps = PhotonSpectrum()\n",
    "    flux_spectrum = ps.get_spectrum()\n",
    "\n",
    "    # convert spectrum from m^-2 s^-1 nm to cm^-2 s^-1 nm and interpolate\n",
    "    flux = interpolate.interp1d(flux_spectrum[0,:], flux_spectrum[1,:] * 1e-4)\n",
    "    \n",
    "    # convert energies to cm^-1 and interpolate absorption\n",
    "    alpha = interpolate.interp1d(hv * 1e9 / energies, absorption)\n",
    "\n",
    "    # widths and wavelengths over which to integrate\n",
    "    widths = np.arange(0, thickness, delta_thickness)\n",
    "    wavelengths = np.arange(wavelength_limits[0], wavelength_limits[1], delta_wavelength)\n",
    "\n",
    "    gen_total = 0\n",
    "    for w in widths:\n",
    "        exps = np.exp(-alpha(wavelengths) * w)\n",
    "        gen_total += np.sum(alpha(wavelengths) * flux(wavelengths) * exps) * delta_wavelength\n",
    "    gen_total = gen_total * delta_thickness\n",
    "    \n",
    "    return(gen_total * carrier_lifetime)"
   ]
  },
  {
   "cell_type": "code",
   "execution_count": 3,
   "metadata": {},
   "outputs": [
    {
     "name": "stdout",
     "output_type": "stream",
     "text": [
      "BiSI conc = 9.488e+11 cm^-3\n",
      "BiSeI conc = 1.262e+12 cm^-3\n",
      "20.6 ms ± 388 µs per loop (mean ± std. dev. of 7 runs, 10 loops each)\n"
     ]
    }
   ],
   "source": [
    "bsi = np.loadtxt('bsi_rt_abs.dat', unpack=True)\n",
    "bsei = np.loadtxt('bsei_rt_abs.dat', unpack=True)\n",
    "\n",
    "print('BiSI conc = {:.3e} cm^-3'.format(get_conc(bsi[0,:], bsi[1,:])))\n",
    "print('BiSeI conc = {:.3e} cm^-3'.format(get_conc(bsei[0,:], bsei[1,:])))\n",
    "\n",
    "%timeit get_conc(bsi[0,:], bsi[1,:])"
   ]
  }
 ],
 "metadata": {
  "kernelspec": {
   "display_name": "Python 3",
   "language": "python",
   "name": "python3"
  },
  "language_info": {
   "codemirror_mode": {
    "name": "ipython",
    "version": 3
   },
   "file_extension": ".py",
   "mimetype": "text/x-python",
   "name": "python",
   "nbconvert_exporter": "python",
   "pygments_lexer": "ipython3",
   "version": "3.5.2"
  }
 },
 "nbformat": 4,
 "nbformat_minor": 2
}
