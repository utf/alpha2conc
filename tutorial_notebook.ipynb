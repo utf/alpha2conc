{
 "cells": [
  {
   "cell_type": "markdown",
   "metadata": {},
   "source": [
    "# Carrier Concentration under AM1.5G Solar Spectrum\n",
    "\n",
    "The carrier concentration of a material under the AM1.5G solar spectrum can be\n",
    "calculated from its optical absorption. The overall equation here is:\n",
    "\n",
    "$$\\Delta n = G \\tau$$\n",
    "\n",
    "where $\\Delta n$ is the excess carrier density due to photoexcitation (in carriers/cm$^{-3}$), $G$ is the carrier\n",
    "generation rate (in carriers/cm$^{-3}$s), and $\\tau$ is the excited carrier lifetime (in s).\n",
    "\n",
    "The theory on calculating the generation rate of carriers can be found here: http://www.pveducation.org/pvcdrom/generation-rate\n",
    " and here: http://www.pveducation.org/pvcdrom/collection-probability\n",
    " \n",
    "To summarise, carrier generation can be calculated as:\n",
    "\n",
    "$$ G = \\alpha N_0 e^{-\\alpha x}$$\n",
    "\n",
    "Where $\\alpha$ is the optical absorption coefficient (in cm$^{-1}$), $N_0$ is the photon flux at the surface (in photons/cm$^{-2}$s$^{-1}$eV$^{-1}$), and $x$ is the depth into the device where generation is being measured (in cm). Both $\\alpha$ and $N_0$ are dependent on the energy of the photons ($\\lambda$), therefore we must integrate the generation rate across all energies of interest:\n",
    "\n",
    "$$ G(x) = \\int G(x,\\lambda) d \\lambda = \\int \\alpha (\\lambda) N_0 (\\lambda) e^{-\\alpha  (\\lambda) x} d\\lambda $$\n",
    "\n",
    "Lastly, we want to a calculate our generation rate as the average over a specific thickness of device $W$ (in cm), as generation will be considerably stronger near the surface and tail off exponentially into the device:\n",
    "\n",
    "$$ G = \\frac{\\int_0^W \\int \\alpha (\\lambda) N_0 (\\lambda) e^{-\\alpha  (\\lambda) x} d\\lambda dx}{W} $$"
   ]
  },
  {
   "cell_type": "code",
   "execution_count": 1,
   "metadata": {},
   "outputs": [
    {
     "data": {
      "image/png": "[encoded data removed]",
      "text/plain": [
       "<matplotlib.figure.Figure at 0x7f924270a048>"
      ]
     },
     "metadata": {},
     "output_type": "display_data"
    }
   ],
   "source": [
    "# Example of converting the AM1.5G spectrum to photon flux.\n",
    "\n",
    "%matplotlib inline\n",
    "import matplotlib.pyplot as plt\n",
    "\n",
    "import numpy as np\n",
    "from scipy import constants\n",
    "\n",
    "h = constants.physical_constants['Planck constant in eV s'][0]\n",
    "c = constants.physical_constants['speed of light in vacuum'][0]\n",
    "\n",
    "spectrum = np.loadtxt('AM15G.csv', unpack=True, delimiter=',')\n",
    "\n",
    "# convert to photon flux -- change units from Watts/(meter**2 nm) to #/(s meter**2 nm)\n",
    "spectrum[1, :] *= spectrum[0, :] * 1e-9 / (constants.c * constants.h)\n",
    "\n",
    "# convert photon flux and energies from nm to eV\n",
    "spectrum[1, :] = (spectrum[1, :] * spectrum[0, :]**2 * 1e-9) / (h * c)\n",
    "spectrum[0, :] = (h * c) / (spectrum[0, :]  * 1e-9)\n",
    "\n",
    "plt.plot(spectrum[0,:], spectrum[1,:])\n",
    "plt.gca().set(xlabel=r'Wavelength cm$^{-1}$', ylabel=r'Photon Flux (m$^{-2}$s$^{-1}$eV$^{-1}$)')\n",
    "plt.xlim((0.4, 4))\n",
    "plt.ylim((0, 0.5e22))\n",
    "plt.show()"
   ]
  },
  {
   "cell_type": "code",
   "execution_count": 2,
   "metadata": {},
   "outputs": [],
   "source": [
    "# This is a copy of the alpha2conc.py file.\n",
    "\n",
    "import numpy as np\n",
    "from scipy import interpolate, constants\n",
    "\n",
    "h = constants.physical_constants['Planck constant in eV s'][0]\n",
    "c = constants.physical_constants['speed of light in vacuum'][0]\n",
    "\n",
    "\n",
    "def alpha2conc(energies, absorption, thickness, tau, energy_limits=None,\n",
    "               de=0.001, dt=1e-7):\n",
    "    \"\"\"Calculate the carrier concentration of a material based on its absorption\n",
    "\n",
    "    Args:\n",
    "        energies (np.array): Photon energies in eV.\n",
    "        absorption (np.array): Optical absorption in cm^-1.\n",
    "        thickness (float): Thickness of material in cm.\n",
    "        tau (float): Carrier lifetime of excited carriers in s.\n",
    "        energy_limits (tuple): Integration limits for the photon energy\n",
    "            as (min, max), in eV. Default is None (all energies).\n",
    "        de (float): Energy integration step size in eV. Default 0.05 eV.\n",
    "        dt (float): Thickness integraton step size in cm. Default 2 nm.\n",
    "\n",
    "    Returns:\n",
    "        Carrier concentration in cm^-3.\n",
    "    \"\"\"\n",
    "    am_eners, am_spec = np.loadtxt('AM15G.csv', unpack=True, delimiter=',')\n",
    "\n",
    "    # convert to photon flux -- from Watts/(meter**2 nm) to #/(s meter**2 nm)\n",
    "    flux = am_spec * am_eners * 1e-9 / (constants.c * constants.h)\n",
    "\n",
    "    # convert photon flux and energies from nm to eV\n",
    "    flux = (flux * am_eners**2 * 1e-9) / (h * c)\n",
    "    am_eners = (h * c) / (am_eners * 1e-9)\n",
    "\n",
    "    # convert flux from m^-2 s^-1 eV^-1 to cm^-2 s^-1 eV^-1 and interpolate\n",
    "    flux = interpolate.interp1d(am_eners, flux * 1e-4)\n",
    "\n",
    "    # interpolate absorption\n",
    "    alpha = interpolate.interp1d(energies, absorption)\n",
    "\n",
    "    # widths and wavelengths over which to integrate\n",
    "    widths = np.arange(0, thickness, dt)\n",
    "\n",
    "    if not energy_limits:\n",
    "        energy_limits = [max([min(energies), min(am_eners)]),\n",
    "                         min([max(energies), max(am_eners)])]\n",
    "    int_eners = np.arange(energy_limits[0], energy_limits[1], de)\n",
    "\n",
    "    gen_total = 0\n",
    "    for w in widths:\n",
    "        exps = np.exp(-alpha(int_eners) * w)\n",
    "        gen_total += np.sum(alpha(int_eners) * flux(int_eners) * exps) * de\n",
    "    gen_total = gen_total * dt\n",
    "\n",
    "    return(gen_total * tau / thickness)"
   ]
  },
  {
   "cell_type": "code",
   "execution_count": 3,
   "metadata": {},
   "outputs": [
    {
     "name": "stdout",
     "output_type": "stream",
     "text": [
      "BiSI conc = 4.711e+14 cm^-3\n",
      "BiSeI conc = 6.279e+14 cm^-3\n",
      "50 ms ± 496 µs per loop (mean ± std. dev. of 7 runs, 10 loops each)\n"
     ]
    }
   ],
   "source": [
    "# Example of how to use the function.\n",
    "\n",
    "import os\n",
    "\n",
    "bsi = np.loadtxt(os.path.join('example', 'bsi_abs.dat'), unpack=True)\n",
    "bsei = np.loadtxt(os.path.join('example', 'bsei_abs.dat'), unpack=True)\n",
    "\n",
    "print('BiSI conc = {:.3e} cm^-3'.format(alpha2conc(bsi[0,:], bsi[1,:], 2e-5, 1e-7)))\n",
    "print('BiSeI conc = {:.3e} cm^-3'.format(alpha2conc(bsei[0,:], bsei[1,:], 2e-5, 1e-7)))\n",
    "\n",
    "%timeit alpha2conc(bsi[0,:], bsi[1,:], 2e-5, 1e-7)"
   ]
  }
 ],
 "metadata": {
  "kernelspec": {
   "display_name": "Python 3",
   "language": "python",
   "name": "python3"
  },
  "language_info": {
   "codemirror_mode": {
    "name": "ipython",
    "version": 3
   },
   "file_extension": ".py",
   "mimetype": "text/x-python",
   "name": "python",
   "nbconvert_exporter": "python",
   "pygments_lexer": "ipython3",
   "version": "3.5.2"
  }
 },
 "nbformat": 4,
 "nbformat_minor": 2
}
